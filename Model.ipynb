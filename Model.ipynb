{
 "cells": [
  {
   "attachments": {},
   "cell_type": "markdown",
   "metadata": {},
   "source": [
    "# Trafic Sign Recognition"
   ]
  },
  {
   "attachments": {},
   "cell_type": "markdown",
   "metadata": {},
   "source": [
    "### Introduction"
   ]
  },
  {
   "attachments": {},
   "cell_type": "markdown",
   "metadata": {},
   "source": [
    "Self driven cars have gained a lot of attention with the developpement of the Artificial Intelligence. However, a lot of domains are cosidered when we talk about these topic. \n",
    "\n",
    "We will consider only the study of trafic signal starting with the detection then the recognition of those signal using deep learning and python.\n",
    "\n",
    "The data we will use in these project is available in Kaggle  [Trafic Signal](https://www.kaggle.com/datasets/meowmeowmeowmeowmeow/gtsrb-german-traffic-sign)"
   ]
  },
  {
   "attachments": {},
   "cell_type": "markdown",
   "metadata": {},
   "source": [
    "### Installing the required Library"
   ]
  },
  {
   "cell_type": "code",
   "execution_count": 2,
   "metadata": {},
   "outputs": [
    {
     "name": "stdout",
     "output_type": "stream",
     "text": [
      "Requirement already satisfied: tensorflow in c:\\users\\hafsa\\anaconda3\\envs\\prediction\\lib\\site-packages (2.10.0)\n",
      "Requirement already satisfied: keras in c:\\users\\hafsa\\anaconda3\\envs\\prediction\\lib\\site-packages (2.10.0)\n",
      "Requirement already satisfied: sklearn in c:\\users\\hafsa\\anaconda3\\envs\\prediction\\lib\\site-packages (0.0)\n",
      "Requirement already satisfied: matplotlib in c:\\users\\hafsa\\anaconda3\\envs\\prediction\\lib\\site-packages (3.6.2)\n",
      "Requirement already satisfied: pandas in c:\\users\\hafsa\\anaconda3\\envs\\prediction\\lib\\site-packages (1.5.1)\n",
      "Note: you may need to restart the kernel to use updated packages.\n"
     ]
    },
    {
     "name": "stderr",
     "output_type": "stream",
     "text": [
      "ERROR: Could not find a version that satisfies the requirement pil (from versions: none)\n",
      "ERROR: No matching distribution found for pil\n"
     ]
    }
   ],
   "source": [
    "%pip install tensorflow keras sklearn matplotlib pandas pil"
   ]
  },
  {
   "attachments": {},
   "cell_type": "markdown",
   "metadata": {},
   "source": [
    "### Data Exploration"
   ]
  },
  {
   "attachments": {},
   "cell_type": "markdown",
   "metadata": {},
   "source": [
    "The data available is divided into training and testing data .The testing data is grouped into 43 classes ,each class represent the type of the trafic signal."
   ]
  },
  {
   "attachments": {},
   "cell_type": "markdown",
   "metadata": {},
   "source": [
    "#### Import Library "
   ]
  },
  {
   "cell_type": "code",
   "execution_count": 3,
   "metadata": {},
   "outputs": [],
   "source": [
    "import numpy as np\n",
    "import pandas as pd\n",
    "import matplotlib.pyplot as plt\n",
    "import tensorflow as tf\n",
    "from PIL import Image\n",
    "\n",
    "import os\n",
    "\n",
    "from sklearn.model_selection import train_test_split\n",
    "from keras.utils import to_categorical\n",
    "from keras.models import Sequential\n",
    "from keras.layers import Conv2D,MaxPool2D,Dense,Flatten,Dropout"
   ]
  },
  {
   "cell_type": "code",
   "execution_count": 4,
   "metadata": {},
   "outputs": [
    {
     "name": "stdout",
     "output_type": "stream",
     "text": [
      "c:\\Users\\hafsa\\OneDrive\\Documents\\GitHub\\TraficSignRecognition-CNN-and-Keras-\n"
     ]
    }
   ],
   "source": [
    "cur_path=os.getcwd()\n",
    "print(cur_path)"
   ]
  },
  {
   "cell_type": "code",
   "execution_count": 9,
   "metadata": {},
   "outputs": [
    {
     "name": "stdout",
     "output_type": "stream",
     "text": [
      "c:\\Users\\hafsa\\OneDrive\\Documents\\GitHub\\TraficSignRecognition-CNN-and-Keras-\n"
     ]
    }
   ],
   "source": [
    "data=[]\n",
    "labels=[]\n",
    "classes=43 \n",
    "cur_path=os.getcwd()\n",
    "print(cur_path)\n",
    "for i in range(classes):\n",
    "    path=os.path.join(cur_path,'train',str(i))\n",
    "    \n",
    "    images=os.listdir(path)\n",
    "    for a in images :\n",
    "        try:\n",
    "            image = Image.open(path + '\\\\'+ a)\n",
    "            \n",
    "            image=image.resize((30,30))\n",
    "            \n",
    "            image = np.array(image) \n",
    "            data.append(image) \n",
    "            labels.append(i) \n",
    "        except:\n",
    "            print(\"Error Loading image\",i)\n",
    "            \n",
    "data=np.array(data)\n",
    "labels=np.array(labels)"
   ]
  },
  {
   "cell_type": "code",
   "execution_count": 10,
   "metadata": {},
   "outputs": [
    {
     "name": "stdout",
     "output_type": "stream",
     "text": [
      "(39209, 30, 30, 3) (39209,)\n"
     ]
    }
   ],
   "source": [
    "print(data.shape,labels.shape)"
   ]
  },
  {
   "attachments": {},
   "cell_type": "markdown",
   "metadata": {},
   "source": [
    "The shape of our data is () where the is the number of images in the data ,the (30,30) is the size of the images and the 3 stand for the RGB values of each pixels of the image."
   ]
  },
  {
   "cell_type": "code",
   "execution_count": 11,
   "metadata": {},
   "outputs": [
    {
     "name": "stdout",
     "output_type": "stream",
     "text": [
      "(31367, 30, 30, 3) (7842, 30, 30, 3) [36 28  2 ... 39  1 10] [26 15 13 ...  8  7 20]\n"
     ]
    }
   ],
   "source": [
    "X_train,X_test,y_train,y_test=train_test_split(data,labels,test_size=0.2,random_state=42)\n",
    "print(X_train.shape,X_test.shape,y_train,y_test)"
   ]
  },
  {
   "attachments": {},
   "cell_type": "markdown",
   "metadata": {},
   "source": [
    "Convert the lables into one Hot encoder"
   ]
  },
  {
   "cell_type": "code",
   "execution_count": 12,
   "metadata": {},
   "outputs": [],
   "source": [
    "y_train , y_test=to_categorical(y_train,43),to_categorical(y_test,43)\n"
   ]
  },
  {
   "attachments": {},
   "cell_type": "markdown",
   "metadata": {},
   "source": [
    "### CNN model "
   ]
  },
  {
   "attachments": {},
   "cell_type": "markdown",
   "metadata": {},
   "source": [
    "#### The Architecture of the Model"
   ]
  },
  {
   "cell_type": "code",
   "execution_count": 13,
   "metadata": {},
   "outputs": [],
   "source": [
    "model = Sequential()\n",
    "model.add(Conv2D(filters=32, kernel_size=(5,5), activation='relu', input_shape=X_train.shape[1:]))\n",
    "model.add(Conv2D(filters=32, kernel_size=(5,5), activation='relu'))\n",
    "model.add(MaxPool2D(pool_size=(2, 2)))\n",
    "model.add(Dropout(rate=0.25))\n",
    "model.add(Conv2D(filters=64, kernel_size=(3, 3), activation='relu'))\n",
    "model.add(Conv2D(filters=64, kernel_size=(3, 3), activation='relu'))\n",
    "model.add(MaxPool2D(pool_size=(2, 2)))\n",
    "model.add(Dropout(rate=0.25))\n",
    "model.add(Flatten())\n",
    "model.add(Dense(256, activation='relu'))\n",
    "model.add(Dropout(rate=0.5))\n",
    "model.add(Dense(43, activation='softmax'))\n",
    "#Compilation of the model\n",
    "model.compile(loss='categorical_crossentropy', optimizer='adam', metrics=['accuracy'])"
   ]
  },
  {
   "attachments": {},
   "cell_type": "markdown",
   "metadata": {},
   "source": [
    "#### Model Training and Validation\n"
   ]
  },
  {
   "cell_type": "code",
   "execution_count": 17,
   "metadata": {},
   "outputs": [
    {
     "name": "stdout",
     "output_type": "stream",
     "text": [
      "Epoch 1/15\n",
      "981/981 [==============================] - 38s 38ms/step - loss: 1.9687 - accuracy: 0.5020 - val_loss: 0.5372 - val_accuracy: 0.8675\n",
      "Epoch 2/15\n",
      "981/981 [==============================] - 41s 42ms/step - loss: 0.6487 - accuracy: 0.8111 - val_loss: 0.2182 - val_accuracy: 0.9394\n",
      "Epoch 3/15\n",
      "981/981 [==============================] - 43s 44ms/step - loss: 0.3964 - accuracy: 0.8838 - val_loss: 0.1054 - val_accuracy: 0.9714\n",
      "Epoch 4/15\n",
      "981/981 [==============================] - 41s 42ms/step - loss: 0.3114 - accuracy: 0.9132 - val_loss: 0.0995 - val_accuracy: 0.9730\n",
      "Epoch 5/15\n",
      "981/981 [==============================] - 41s 42ms/step - loss: 0.2673 - accuracy: 0.9242 - val_loss: 0.0683 - val_accuracy: 0.9807\n",
      "Epoch 6/15\n",
      "981/981 [==============================] - 40s 41ms/step - loss: 0.2337 - accuracy: 0.9335 - val_loss: 0.0597 - val_accuracy: 0.9828\n",
      "Epoch 7/15\n",
      "981/981 [==============================] - 40s 40ms/step - loss: 0.2197 - accuracy: 0.9388 - val_loss: 0.0672 - val_accuracy: 0.9813\n",
      "Epoch 8/15\n",
      "981/981 [==============================] - 41s 42ms/step - loss: 0.2294 - accuracy: 0.9368 - val_loss: 0.0583 - val_accuracy: 0.9836\n",
      "Epoch 9/15\n",
      "981/981 [==============================] - 39s 39ms/step - loss: 0.1999 - accuracy: 0.9460 - val_loss: 0.0764 - val_accuracy: 0.9787\n",
      "Epoch 10/15\n",
      "981/981 [==============================] - 41s 42ms/step - loss: 0.2039 - accuracy: 0.9451 - val_loss: 0.0476 - val_accuracy: 0.9871\n",
      "Epoch 11/15\n",
      "981/981 [==============================] - 36s 37ms/step - loss: 0.1940 - accuracy: 0.9475 - val_loss: 0.0683 - val_accuracy: 0.9823\n",
      "Epoch 12/15\n",
      "981/981 [==============================] - 35s 36ms/step - loss: 0.2017 - accuracy: 0.9445 - val_loss: 0.0465 - val_accuracy: 0.9881\n",
      "Epoch 13/15\n",
      "981/981 [==============================] - 35s 36ms/step - loss: 0.1925 - accuracy: 0.9483 - val_loss: 0.0374 - val_accuracy: 0.9898\n",
      "Epoch 14/15\n",
      "981/981 [==============================] - 35s 35ms/step - loss: 0.1854 - accuracy: 0.9512 - val_loss: 0.0341 - val_accuracy: 0.9908\n",
      "Epoch 15/15\n",
      "981/981 [==============================] - 39s 40ms/step - loss: 0.1939 - accuracy: 0.9498 - val_loss: 0.0441 - val_accuracy: 0.9884\n"
     ]
    }
   ],
   "source": [
    "epochs = 15\n",
    "anc = model.fit(X_train, y_train, batch_size=32, epochs=epochs, validation_data=(X_test, y_test))"
   ]
  },
  {
   "cell_type": "code",
   "execution_count": 29,
   "metadata": {},
   "outputs": [
    {
     "data": {
      "image/png": "[encoded data removed]",
      "text/plain": [
       "<Figure size 640x480 with 1 Axes>"
      ]
     },
     "metadata": {},
     "output_type": "display_data"
    },
    {
     "data": {
      "image/png": "[encoded data removed]",
      "text/plain": [
       "<Figure size 640x480 with 1 Axes>"
      ]
     },
     "metadata": {},
     "output_type": "display_data"
    }
   ],
   "source": [
    "#plotting graphs for accuracy\n",
    "\n",
    "model.save(\"my_model.h5\")\n",
    "plt.figure(0)\n",
    "plt.plot(anc.history['accuracy'], label='training accuracy')\n",
    "plt.plot(anc.history['val_accuracy'], label='val accuracy')\n",
    "plt.title('Accuracy')\n",
    "plt.xlabel('epochs')\n",
    "plt.ylabel('accuracy')\n",
    "plt.legend()\n",
    "plt.show()\n",
    "plt.figure(1)\n",
    "plt.plot(anc.history['loss'], label='training loss')\n",
    "plt.plot(anc.history['val_loss'], label='val loss')\n",
    "plt.title('Loss')\n",
    "plt.xlabel('epochs')\n",
    "plt.ylabel('loss')\n",
    "plt.legend()\n",
    "plt.show()"
   ]
  },
  {
   "cell_type": "code",
   "execution_count": null,
   "metadata": {},
   "outputs": [],
   "source": []
  }
 ],
 "metadata": {
  "kernelspec": {
   "display_name": "Prediction",
   "language": "python",
   "name": "python3"
  },
  "language_info": {
   "codemirror_mode": {
    "name": "ipython",
    "version": 3
   },
   "file_extension": ".py",
   "mimetype": "text/x-python",
   "name": "python",
   "nbconvert_exporter": "python",
   "pygments_lexer": "ipython3",
   "version": "3.10.6"
  },
  "orig_nbformat": 4
 },
 "nbformat": 4,
 "nbformat_minor": 2
}
