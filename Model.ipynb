{
 "cells": [
  {
   "attachments": {},
   "cell_type": "markdown",
   "metadata": {},
   "source": [
    "# Trafic Sign Recognition"
   ]
  },
  {
   "attachments": {},
   "cell_type": "markdown",
   "metadata": {},
   "source": [
    "### Introduction"
   ]
  },
  {
   "attachments": {},
   "cell_type": "markdown",
   "metadata": {},
   "source": [
    "Self driven cars have gained a lot of attention with the developpement of the Artificial Intelligence. However, a lot of domains are cosidered when we talk about these topic. \n",
    "\n",
    "We will consider only the study of trafic signal starting with the detection then the recognition of those signal using deep learning and python.\n",
    "\n",
    "The data we will use in these project is available in Kaggle  [Trafic Signal](https://www.kaggle.com/datasets/meowmeowmeowmeowmeow/gtsrb-german-traffic-sign)"
   ]
  },
  {
   "attachments": {},
   "cell_type": "markdown",
   "metadata": {},
   "source": [
    "### Installing the required Library"
   ]
  },
  {
   "cell_type": "code",
   "execution_count": 2,
   "metadata": {},
   "outputs": [
    {
     "name": "stdout",
     "output_type": "stream",
     "text": [
      "Requirement already satisfied: tensorflow in c:\\users\\hafsa\\anaconda3\\envs\\prediction\\lib\\site-packages (2.10.0)\n",
      "Requirement already satisfied: keras in c:\\users\\hafsa\\anaconda3\\envs\\prediction\\lib\\site-packages (2.10.0)\n",
      "Requirement already satisfied: sklearn in c:\\users\\hafsa\\anaconda3\\envs\\prediction\\lib\\site-packages (0.0)\n",
      "Requirement already satisfied: matplotlib in c:\\users\\hafsa\\anaconda3\\envs\\prediction\\lib\\site-packages (3.6.2)\n",
      "Requirement already satisfied: pandas in c:\\users\\hafsa\\anaconda3\\envs\\prediction\\lib\\site-packages (1.5.1)\n",
      "Note: you may need to restart the kernel to use updated packages.\n"
     ]
    },
    {
     "name": "stderr",
     "output_type": "stream",
     "text": [
      "ERROR: Could not find a version that satisfies the requirement pil (from versions: none)\n",
      "ERROR: No matching distribution found for pil\n"
     ]
    }
   ],
   "source": [
    "%pip install tensorflow keras sklearn matplotlib pandas pil"
   ]
  },
  {
   "attachments": {},
   "cell_type": "markdown",
   "metadata": {},
   "source": [
    "### Data Exploration"
   ]
  },
  {
   "attachments": {},
   "cell_type": "markdown",
   "metadata": {},
   "source": [
    "The data available is divided into training and testing data .The testing data is grouped into 43 classes ,each class represent the type of the trafic signal."
   ]
  },
  {
   "attachments": {},
   "cell_type": "markdown",
   "metadata": {},
   "source": [
    "#### Import Library "
   ]
  },
  {
   "cell_type": "code",
   "execution_count": 3,
   "metadata": {},
   "outputs": [],
   "source": [
    "import numpy as np\n",
    "import pandas as pd\n",
    "import matplotlib.pyplot as plt\n",
    "import tensorflow as tf\n",
    "from PIL import Image\n",
    "\n",
    "import os\n",
    "\n",
    "from sklearn.model_selection import train_test_split\n",
    "from keras.utils import to_categorical\n",
    "from keras.models import Sequential\n",
    "from keras.layers import Conv2D,MaxPool2D,Dense,Flatten,Dropout"
   ]
  },
  {
   "cell_type": "code",
   "execution_count": 4,
   "metadata": {},
   "outputs": [
    {
     "name": "stdout",
     "output_type": "stream",
     "text": [
      "c:\\Users\\hafsa\\OneDrive\\Documents\\GitHub\\TraficSignRecognition-CNN-and-Keras-\n"
     ]
    }
   ],
   "source": [
    "cur_path=os.getcwd()\n",
    "print(cur_path)"
   ]
  },
  {
   "cell_type": "code",
   "execution_count": 5,
   "metadata": {},
   "outputs": [
    {
     "name": "stdout",
     "output_type": "stream",
     "text": [
      "c:\\Users\\hafsa\\OneDrive\\Documents\\GitHub\\TraficSignRecognition-CNN-and-Keras-\n"
     ]
    }
   ],
   "source": [
    "data=[]\n",
    "labels=[]\n",
    "classes=43 \n",
    "cur_path=os.getcwd()\n",
    "print(cur_path)\n",
    "for i in range(classes):\n",
    "    path=os.path.join(cur_path,'train',str(i))\n",
    "    \n",
    "    images=os.listdir(path)\n",
    "    for a in images :\n",
    "        try:\n",
    "            image = Image.open(path + '\\\\'+ a)\n",
    "            \n",
    "            image=image.resize((30,30))\n",
    "            \n",
    "            image = np.array(image) \n",
    "            data.append(image) \n",
    "            labels.append(i) \n",
    "        except:\n",
    "            print(\"Error Loading image\",i)\n",
    "            \n",
    "data=np.array(data)\n",
    "labels=np.array(labels)"
   ]
  },
  {
   "cell_type": "code",
   "execution_count": 6,
   "metadata": {},
   "outputs": [
    {
     "name": "stdout",
     "output_type": "stream",
     "text": [
      "(39209, 30, 30, 3) (39209,)\n"
     ]
    }
   ],
   "source": [
    "print(data.shape,labels.shape)"
   ]
  },
  {
   "attachments": {},
   "cell_type": "markdown",
   "metadata": {},
   "source": [
    "The shape of our data is () where the is the number of images in the data ,the (30,30) is the size of the images and the 3 stand for the RGB values of each pixels of the image."
   ]
  },
  {
   "cell_type": "code",
   "execution_count": 7,
   "metadata": {},
   "outputs": [
    {
     "name": "stdout",
     "output_type": "stream",
     "text": [
      "(31367, 30, 30, 3) (7842, 30, 30, 3) [36 28  2 ... 39  1 10] [26 15 13 ...  8  7 20]\n"
     ]
    }
   ],
   "source": [
    "X_train,X_test,y_train,y_test=train_test_split(data,labels,test_size=0.2,random_state=42)\n",
    "print(X_train.shape,X_test.shape,y_train,y_test)"
   ]
  },
  {
   "attachments": {},
   "cell_type": "markdown",
   "metadata": {},
   "source": [
    "Convert the lables into one Hot encoder"
   ]
  },
  {
   "cell_type": "code",
   "execution_count": 8,
   "metadata": {},
   "outputs": [],
   "source": [
    "y_train , y_test=to_categorical(y_train,43),to_categorical(y_test,43)\n"
   ]
  },
  {
   "attachments": {},
   "cell_type": "markdown",
   "metadata": {},
   "source": [
    "### CNN model "
   ]
  },
  {
   "attachments": {},
   "cell_type": "markdown",
   "metadata": {},
   "source": [
    "#### The Architecture of the Model"
   ]
  },
  {
   "attachments": {},
   "cell_type": "markdown",
   "metadata": {},
   "source": [
    "* Conv2D layer with 32 filters and a kernel size of 5x5: The purpose of this layer is to perform convolutional filtering on the input image. The layer has 32 filters, which means that it will output 32 feature maps for each input image. The filters are applied to a 5x5 patch of the input image at a time, sliding across the image to produce a 2D output feature map. The ReLU activation function is applied to the output of this layer, which introduces non-linearity into the model.\n",
    "\n",
    "* Conv2D layer with 32 filters and a kernel size of 5x5: This layer is similar to the first Conv2D layer, with 32 filters and a 5x5 kernel size. The purpose of this layer is to learn additional, more complex features from the input image.\n",
    "\n",
    "* MaxPool2D layer with a pool size of 2x2: The purpose of this layer is to downsample the feature maps produced by the previous layers. The pooling operation takes the maximum value in each 2x2 patch of the feature map and outputs a single value, resulting in a smaller output feature map with reduced dimensionality.\n",
    "\n",
    "* Dropout layer with a rate of 0.25: This layer applies dropout regularization to the input data. During training, a fraction of the input units (in this case, 25%) are randomly set to 0 at each update. This helps prevent overfitting by forcing the model to learn redundant representations of the input data.\n",
    "\n",
    "* Conv2D layer with 64 filters and a kernel size of 3x3: This layer performs another convolutional filtering operation on the input feature maps, with 64 filters and a smaller 3x3 kernel size. This layer is designed to learn more complex, high-level features from the input data.\n",
    "\n",
    "* Conv2D layer with 64 filters and a kernel size of 3x3: This layer is similar to the previous Conv2D layer, with 64 filters and a 3x3 kernel size. This layer further refines the learned features from the previous layer.\n",
    "\n",
    "* MaxPool2D layer with a pool size of 2x2: This layer applies max pooling to the output feature maps from the previous layers, reducing the dimensionality of the feature maps further.\n",
    "\n",
    "* Dropout layer with a rate of 0.25: This is another dropout layer that applies regularization to the input data, randomly setting 25% of the input units to 0 during training.\n",
    "\n",
    "* Flatten layer: This layer converts the 2D output feature maps from the previous layer into a 1D feature vector. This allows the output to be fed into a densely connected neural network.\n",
    "\n",
    "* Dense layer with 256 units and a ReLU activation function: This layer is a fully connected layer that applies a linear transformation to the input data. The layer has 256 units, and the ReLU activation function is applied to the output of this layer.\n",
    "\n",
    "* Dropout layer with a rate of 0.5: This is another dropout layer that applies regularization to the input data, randomly setting 50% of the input units to 0 during training.\n",
    "\n",
    "* Dense layer with 43 units and a softmax activation function: This is the final output layer of the model. It has 43 units (one for each class in the dataset), and the softmax activation function is applied to the output of this layer to produce a probability distribution over the classes. The class with the highest probability is the predicted class for the input image"
   ]
  },
  {
   "cell_type": "code",
   "execution_count": 9,
   "metadata": {},
   "outputs": [],
   "source": [
    "model = Sequential()\n",
    "model.add(Conv2D(filters=32, kernel_size=(5,5), activation='relu', input_shape=X_train.shape[1:]))\n",
    "model.add(Conv2D(filters=32, kernel_size=(5,5), activation='relu'))\n",
    "model.add(MaxPool2D(pool_size=(2, 2)))\n",
    "model.add(Dropout(rate=0.25))\n",
    "model.add(Conv2D(filters=64, kernel_size=(3, 3), activation='relu'))\n",
    "model.add(Conv2D(filters=64, kernel_size=(3, 3), activation='relu'))\n",
    "model.add(MaxPool2D(pool_size=(2, 2)))\n",
    "model.add(Dropout(rate=0.25))\n",
    "model.add(Flatten())\n",
    "model.add(Dense(256, activation='relu'))\n",
    "model.add(Dropout(rate=0.5))\n",
    "model.add(Dense(43, activation='softmax'))\n",
    "#Compilation of the model\n",
    "model.compile(loss='categorical_crossentropy', optimizer='adam', metrics=['accuracy'])"
   ]
  },
  {
   "attachments": {},
   "cell_type": "markdown",
   "metadata": {},
   "source": [
    "#### Model Training and Validation\n"
   ]
  },
  {
   "cell_type": "code",
   "execution_count": 10,
   "metadata": {},
   "outputs": [
    {
     "name": "stdout",
     "output_type": "stream",
     "text": [
      "Epoch 1/15\n",
      "981/981 [==============================] - 44s 44ms/step - loss: 1.8012 - accuracy: 0.5569 - val_loss: 0.2444 - val_accuracy: 0.9393\n",
      "Epoch 2/15\n",
      "981/981 [==============================] - 39s 40ms/step - loss: 0.4584 - accuracy: 0.8749 - val_loss: 0.1109 - val_accuracy: 0.9741\n",
      "Epoch 3/15\n",
      "981/981 [==============================] - 39s 40ms/step - loss: 0.3070 - accuracy: 0.9151 - val_loss: 0.0682 - val_accuracy: 0.9843\n",
      "Epoch 4/15\n",
      "981/981 [==============================] - 37s 38ms/step - loss: 0.2353 - accuracy: 0.9363 - val_loss: 0.0736 - val_accuracy: 0.9828\n",
      "Epoch 5/15\n",
      "981/981 [==============================] - 37s 38ms/step - loss: 0.2285 - accuracy: 0.9411 - val_loss: 0.0551 - val_accuracy: 0.9861\n",
      "Epoch 6/15\n",
      "981/981 [==============================] - 37s 38ms/step - loss: 0.2178 - accuracy: 0.9442 - val_loss: 0.0464 - val_accuracy: 0.9890\n",
      "Epoch 7/15\n",
      "981/981 [==============================] - 38s 38ms/step - loss: 0.1797 - accuracy: 0.9556 - val_loss: 0.0547 - val_accuracy: 0.9855\n",
      "Epoch 8/15\n",
      "981/981 [==============================] - 38s 39ms/step - loss: 0.2411 - accuracy: 0.9427 - val_loss: 0.0707 - val_accuracy: 0.9833\n",
      "Epoch 9/15\n",
      "981/981 [==============================] - 37s 38ms/step - loss: 0.1926 - accuracy: 0.9535 - val_loss: 0.0461 - val_accuracy: 0.9879\n",
      "Epoch 10/15\n",
      "981/981 [==============================] - 37s 38ms/step - loss: 0.2123 - accuracy: 0.9494 - val_loss: 0.0594 - val_accuracy: 0.9842\n",
      "Epoch 11/15\n",
      "981/981 [==============================] - 35s 36ms/step - loss: 0.1792 - accuracy: 0.9567 - val_loss: 0.0362 - val_accuracy: 0.9902\n",
      "Epoch 12/15\n",
      "981/981 [==============================] - 35s 36ms/step - loss: 0.2300 - accuracy: 0.9489 - val_loss: 0.0675 - val_accuracy: 0.9851\n",
      "Epoch 13/15\n",
      "981/981 [==============================] - 39s 40ms/step - loss: 0.2240 - accuracy: 0.9514 - val_loss: 0.0625 - val_accuracy: 0.9843\n",
      "Epoch 14/15\n",
      "981/981 [==============================] - 39s 40ms/step - loss: 0.1924 - accuracy: 0.9569 - val_loss: 0.0586 - val_accuracy: 0.9853\n",
      "Epoch 15/15\n",
      "981/981 [==============================] - 36s 37ms/step - loss: 0.1995 - accuracy: 0.9572 - val_loss: 0.0666 - val_accuracy: 0.9818\n"
     ]
    }
   ],
   "source": [
    "epochs = 15\n",
    "anc = model.fit(X_train, y_train, batch_size=32, epochs=epochs, validation_data=(X_test, y_test))"
   ]
  },
  {
   "cell_type": "code",
   "execution_count": 11,
   "metadata": {},
   "outputs": [
    {
     "data": {
      "image/png": "[encoded data removed]",
      "text/plain": [
       "<Figure size 640x480 with 1 Axes>"
      ]
     },
     "metadata": {},
     "output_type": "display_data"
    },
    {
     "data": {
      "image/png": "[encoded data removed]",
      "text/plain": [
       "<Figure size 640x480 with 1 Axes>"
      ]
     },
     "metadata": {},
     "output_type": "display_data"
    }
   ],
   "source": [
    "#plotting graphs for accuracy\n",
    "\n",
    "model.save(\"my_model.h5\")\n",
    "plt.figure(0)\n",
    "plt.plot(anc.history['accuracy'], label='training accuracy')\n",
    "plt.plot(anc.history['val_accuracy'], label='val accuracy')\n",
    "plt.title('Accuracy')\n",
    "plt.xlabel('epochs')\n",
    "plt.ylabel('accuracy')\n",
    "plt.legend()\n",
    "plt.show()\n",
    "plt.figure(1)\n",
    "plt.plot(anc.history['loss'], label='training loss')\n",
    "plt.plot(anc.history['val_loss'], label='val loss')\n",
    "plt.title('Loss')\n",
    "plt.xlabel('epochs')\n",
    "plt.ylabel('loss')\n",
    "plt.legend()\n",
    "plt.show()"
   ]
  },
  {
   "cell_type": "code",
   "execution_count": 12,
   "metadata": {},
   "outputs": [
    {
     "name": "stdout",
     "output_type": "stream",
     "text": [
      "246/246 [==============================] - 2s 8ms/step - loss: 0.0666 - accuracy: 0.9818\n"
     ]
    }
   ],
   "source": [
    "loss, accuracy = model.evaluate(X_test,y_test)"
   ]
  },
  {
   "cell_type": "code",
   "execution_count": null,
   "metadata": {},
   "outputs": [],
   "source": []
  }
 ],
 "metadata": {
  "kernelspec": {
   "display_name": "Prediction",
   "language": "python",
   "name": "python3"
  },
  "language_info": {
   "codemirror_mode": {
    "name": "ipython",
    "version": 3
   },
   "file_extension": ".py",
   "mimetype": "text/x-python",
   "name": "python",
   "nbconvert_exporter": "python",
   "pygments_lexer": "ipython3",
   "version": "3.10.6"
  },
  "orig_nbformat": 4
 },
 "nbformat": 4,
 "nbformat_minor": 2
}
